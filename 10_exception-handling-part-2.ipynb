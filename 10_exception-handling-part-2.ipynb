{
 "cells": [
  {
   "cell_type": "markdown",
   "metadata": {},
   "source": [
    "## Exception Handling"
   ]
  },
  {
   "cell_type": "code",
   "execution_count": 3,
   "metadata": {},
   "outputs": [
    {
     "name": "stdout",
     "output_type": "stream",
     "text": [
      "this file is not available\n",
      "new task\n"
     ]
    }
   ],
   "source": [
    "try:\n",
    "    f= open('xyz.txt')\n",
    "    f.write('this is test file')\n",
    "except:\n",
    "    print('this file is not available')\n",
    "else:\n",
    "    print('try is working fine')\n",
    "finally:\n",
    "    print('new task')"
   ]
  },
  {
   "cell_type": "code",
   "execution_count": 5,
   "metadata": {},
   "outputs": [
    {
     "name": "stdout",
     "output_type": "stream",
     "text": [
      "try is working fine\n",
      "new task\n"
     ]
    }
   ],
   "source": [
    "try:\n",
    "    4+5\n",
    "except:\n",
    "    print('this file is not available')\n",
    "else:\n",
    "    print('try is working fine')\n",
    "finally:\n",
    "    print('new task')"
   ]
  },
  {
   "cell_type": "code",
   "execution_count": 10,
   "metadata": {},
   "outputs": [
    {
     "name": "stdout",
     "output_type": "stream",
     "text": [
      "try is working fine\n",
      "[Errno 2] No such file or directory: 'xyz1.txt'\n"
     ]
    }
   ],
   "source": [
    "try:\n",
    "    4+5\n",
    "except:\n",
    "    print('this file is not available')\n",
    "else:\n",
    "    print('try is working fine')\n",
    "finally:\n",
    "    try:\n",
    "        f= open('xyz1.txt')\n",
    "        #f.write('this is test file')\n",
    "    except Exception as e:\n",
    "        print(e)"
   ]
  },
  {
   "cell_type": "code",
   "execution_count": 13,
   "metadata": {},
   "outputs": [],
   "source": [
    "def askint():\n",
    "    v = int(input('please enter an integer'))"
   ]
  },
  {
   "cell_type": "code",
   "execution_count": 15,
   "metadata": {},
   "outputs": [
    {
     "name": "stdout",
     "output_type": "stream",
     "text": [
      "please enter an integersd\n"
     ]
    },
    {
     "ename": "ValueError",
     "evalue": "invalid literal for int() with base 10: 'sd'",
     "output_type": "error",
     "traceback": [
      "\u001b[1;31m---------------------------------------------------------------------------\u001b[0m",
      "\u001b[1;31mValueError\u001b[0m                                Traceback (most recent call last)",
      "\u001b[1;32m<ipython-input-15-3413a98cb27f>\u001b[0m in \u001b[0;36m<module>\u001b[1;34m\u001b[0m\n\u001b[1;32m----> 1\u001b[1;33m \u001b[0mv\u001b[0m \u001b[1;33m=\u001b[0m \u001b[0mint\u001b[0m\u001b[1;33m(\u001b[0m\u001b[0minput\u001b[0m\u001b[1;33m(\u001b[0m\u001b[1;34m'please enter an integer'\u001b[0m\u001b[1;33m)\u001b[0m\u001b[1;33m)\u001b[0m\u001b[1;33m\u001b[0m\u001b[1;33m\u001b[0m\u001b[0m\n\u001b[0m",
      "\u001b[1;31mValueError\u001b[0m: invalid literal for int() with base 10: 'sd'"
     ]
    }
   ],
   "source": [
    "v = int(input('please enter an integer'))"
   ]
  },
  {
   "cell_type": "code",
   "execution_count": 26,
   "metadata": {},
   "outputs": [],
   "source": [
    "def askint():\n",
    "    try:\n",
    "        v = int(input('please enter an integer  '))\n",
    "    except Exception as e:\n",
    "        print(e)\n",
    "    finally:\n",
    "        print('finaly block')\n",
    "        try:\n",
    "            print(v)\n",
    "        except Exception as e:\n",
    "            print(e)\n",
    "            "
   ]
  },
  {
   "cell_type": "code",
   "execution_count": 27,
   "metadata": {},
   "outputs": [
    {
     "name": "stdout",
     "output_type": "stream",
     "text": [
      "please enter an integer  k\n",
      "invalid literal for int() with base 10: 'k'\n",
      "finaly block\n",
      "local variable 'v' referenced before assignment\n"
     ]
    }
   ],
   "source": [
    "askint()"
   ]
  },
  {
   "cell_type": "code",
   "execution_count": 30,
   "metadata": {},
   "outputs": [],
   "source": [
    "def askint():\n",
    "    while True:\n",
    "        try:\n",
    "            v = int(input('please enter an integer  '))\n",
    "        except Exception as e:\n",
    "            print(e)\n",
    "        finally:\n",
    "            print('finaly block')\n",
    "            try:\n",
    "                print(v)\n",
    "            except Exception as e:\n",
    "                print(e)\n",
    "            "
   ]
  },
  {
   "cell_type": "code",
   "execution_count": null,
   "metadata": {},
   "outputs": [
    {
     "name": "stdout",
     "output_type": "stream",
     "text": [
      "please enter an integer  i\n",
      "invalid literal for int() with base 10: 'i'\n",
      "finaly block\n",
      "local variable 'v' referenced before assignment\n",
      "please enter an integer  i\n",
      "invalid literal for int() with base 10: 'i'\n",
      "finaly block\n",
      "local variable 'v' referenced before assignment\n",
      "please enter an integer  0\n",
      "finaly block\n",
      "0\n",
      "please enter an integer  0\n",
      "finaly block\n",
      "0\n",
      "please enter an integer  4\n",
      "finaly block\n",
      "4\n",
      "please enter an integer  \n",
      "invalid literal for int() with base 10: ''\n",
      "finaly block\n",
      "4\n"
     ]
    }
   ],
   "source": [
    "askint()"
   ]
  },
  {
   "cell_type": "code",
   "execution_count": 1,
   "metadata": {},
   "outputs": [],
   "source": [
    "def askint():\n",
    "    while True:\n",
    "        try:\n",
    "            v = int(input('please enter an integer  '))\n",
    "        except Exception as e:\n",
    "            print(e)\n",
    "        finally:\n",
    "            print('finaly block')\n",
    "            continue\n",
    "            try:\n",
    "                print(v)\n",
    "            except Exception as e:\n",
    "                print(e)\n"
   ]
  },
  {
   "cell_type": "code",
   "execution_count": null,
   "metadata": {},
   "outputs": [
    {
     "name": "stdout",
     "output_type": "stream",
     "text": [
      "please enter an integer  d\n",
      "invalid literal for int() with base 10: 'd'\n",
      "finaly block\n",
      "please enter an integer  0\n",
      "finaly block\n",
      "please enter an integer  4\n",
      "finaly block\n",
      "please enter an integer  3\n",
      "finaly block\n"
     ]
    }
   ],
   "source": [
    "askint()"
   ]
  },
  {
   "cell_type": "code",
   "execution_count": 2,
   "metadata": {},
   "outputs": [],
   "source": [
    "def askint():\n",
    "    while True:\n",
    "        try:\n",
    "            v = int(input('please enter an integer  '))\n",
    "        except Exception as e:\n",
    "            print(e)\n",
    "        else :\n",
    "            print('yes I am able to get integer')\n",
    "            break\n",
    "        finally:\n",
    "            print('finaly block')\n",
    "            \n",
    "            try:\n",
    "                print(v)\n",
    "                \n",
    "            except Exception as e:\n",
    "                print(e)\n"
   ]
  },
  {
   "cell_type": "code",
   "execution_count": 3,
   "metadata": {},
   "outputs": [
    {
     "name": "stdout",
     "output_type": "stream",
     "text": [
      "please enter an integer  e\n",
      "invalid literal for int() with base 10: 'e'\n",
      "finaly block\n",
      "local variable 'v' referenced before assignment\n",
      "please enter an integer  e\n",
      "invalid literal for int() with base 10: 'e'\n",
      "finaly block\n",
      "local variable 'v' referenced before assignment\n",
      "please enter an integer  3\n",
      "yes I am able to get integer\n",
      "finaly block\n",
      "3\n"
     ]
    }
   ],
   "source": [
    "askint()"
   ]
  },
  {
   "cell_type": "code",
   "execution_count": 6,
   "metadata": {},
   "outputs": [
    {
     "name": "stdout",
     "output_type": "stream",
     "text": [
      "please enter an integer  d\n",
      "invalid literal for int() with base 10: 'd'\n",
      "finaly block\n",
      "please enter an integer  4\n",
      "yes I am able to get integer\n",
      "finaly block\n",
      "4\n"
     ]
    }
   ],
   "source": [
    "def askint():\n",
    "    while True:\n",
    "        try:\n",
    "            v = int(input('please enter an integer  '))\n",
    "        except Exception as e:\n",
    "            print(e)\n",
    "        else :\n",
    "            print('yes I am able to get integer')\n",
    "            break\n",
    "        finally:\n",
    "            print('finaly block')\n",
    "    print(v)\n",
    "askint()"
   ]
  },
  {
   "cell_type": "code",
   "execution_count": 8,
   "metadata": {},
   "outputs": [
    {
     "ename": "FileNotFoundError",
     "evalue": "[Errno 2] No such file or directory: 'xyz1.txt'",
     "output_type": "error",
     "traceback": [
      "\u001b[1;31m---------------------------------------------------------------------------\u001b[0m",
      "\u001b[1;31mFileNotFoundError\u001b[0m                         Traceback (most recent call last)",
      "\u001b[1;32m<ipython-input-8-7dfbdf0d8d3c>\u001b[0m in \u001b[0;36m<module>\u001b[1;34m\u001b[0m\n\u001b[0;32m      1\u001b[0m \u001b[1;32mtry\u001b[0m\u001b[1;33m:\u001b[0m\u001b[1;33m\u001b[0m\u001b[1;33m\u001b[0m\u001b[0m\n\u001b[1;32m----> 2\u001b[1;33m     \u001b[0mf\u001b[0m\u001b[1;33m=\u001b[0m\u001b[0mopen\u001b[0m\u001b[1;33m(\u001b[0m\u001b[1;34m'xyz1.txt'\u001b[0m\u001b[1;33m)\u001b[0m\u001b[1;33m\u001b[0m\u001b[1;33m\u001b[0m\u001b[0m\n\u001b[0m\u001b[0;32m      3\u001b[0m     \u001b[0mf\u001b[0m\u001b[1;33m.\u001b[0m\u001b[0mwrite\u001b[0m\u001b[1;33m(\u001b[0m\u001b[1;34m'my name is shiva'\u001b[0m\u001b[1;33m)\u001b[0m\u001b[1;33m\u001b[0m\u001b[1;33m\u001b[0m\u001b[0m\n\u001b[0;32m      4\u001b[0m \u001b[1;32mexcept\u001b[0m \u001b[0mValueError\u001b[0m\u001b[1;33m:\u001b[0m\u001b[1;33m\u001b[0m\u001b[1;33m\u001b[0m\u001b[0m\n\u001b[0;32m      5\u001b[0m     \u001b[0mprint\u001b[0m \u001b[1;33m(\u001b[0m\u001b[1;34m\"there is error\"\u001b[0m\u001b[1;33m)\u001b[0m\u001b[1;33m\u001b[0m\u001b[1;33m\u001b[0m\u001b[0m\n",
      "\u001b[1;31mFileNotFoundError\u001b[0m: [Errno 2] No such file or directory: 'xyz1.txt'"
     ]
    }
   ],
   "source": [
    "try:\n",
    "    f=open('xyz1.txt')\n",
    "    f.write('my name is shiva')\n",
    "except ValueError:\n",
    "    print (\"there is error\")"
   ]
  },
  {
   "cell_type": "code",
   "execution_count": 5,
   "metadata": {},
   "outputs": [
    {
     "ename": "FileNotFoundError",
     "evalue": "[Errno 2] No such file or directory: 'xyz1.txt'",
     "output_type": "error",
     "traceback": [
      "\u001b[1;31m---------------------------------------------------------------------------\u001b[0m",
      "\u001b[1;31mFileNotFoundError\u001b[0m                         Traceback (most recent call last)",
      "\u001b[1;32m<ipython-input-5-9addc9aadfa3>\u001b[0m in \u001b[0;36m<module>\u001b[1;34m\u001b[0m\n\u001b[1;32m----> 1\u001b[1;33m \u001b[0mf\u001b[0m\u001b[1;33m=\u001b[0m\u001b[0mopen\u001b[0m\u001b[1;33m(\u001b[0m\u001b[1;34m'xyz1.txt'\u001b[0m\u001b[1;33m)\u001b[0m\u001b[1;33m\u001b[0m\u001b[1;33m\u001b[0m\u001b[0m\n\u001b[0m\u001b[0;32m      2\u001b[0m \u001b[0mf\u001b[0m\u001b[1;33m.\u001b[0m\u001b[0mwrite\u001b[0m\u001b[1;33m(\u001b[0m\u001b[1;34m'my name is shiva'\u001b[0m\u001b[1;33m)\u001b[0m\u001b[1;33m\u001b[0m\u001b[1;33m\u001b[0m\u001b[0m\n",
      "\u001b[1;31mFileNotFoundError\u001b[0m: [Errno 2] No such file or directory: 'xyz1.txt'"
     ]
    }
   ],
   "source": [
    "f=open('xyz1.txt')\n",
    "f.write('my name is shiva')"
   ]
  },
  {
   "cell_type": "code",
   "execution_count": 9,
   "metadata": {},
   "outputs": [
    {
     "name": "stdout",
     "output_type": "stream",
     "text": [
      "[Errno 2] No such file or directory: 'xyz1.txt'\n"
     ]
    }
   ],
   "source": [
    "try :\n",
    "    f=open('xyz1.txt')\n",
    "    f.write('my name is shiva')\n",
    "except IOError as e:\n",
    "    print(e)"
   ]
  },
  {
   "cell_type": "code",
   "execution_count": 11,
   "metadata": {},
   "outputs": [
    {
     "name": "stdout",
     "output_type": "stream",
     "text": [
      "[Errno 2] No such file or directory: 'xyz1.txt'\n"
     ]
    }
   ],
   "source": [
    "try :\n",
    "    f=open('xyz1.txt')\n",
    "    f.write('my name is shiva')\n",
    "except FileExistsError as e:\n",
    "    print (e)\n",
    "except IOError as e:\n",
    "    print(e)"
   ]
  },
  {
   "cell_type": "code",
   "execution_count": 12,
   "metadata": {},
   "outputs": [
    {
     "name": "stdout",
     "output_type": "stream",
     "text": [
      "[Errno 2] No such file or directory: 'xyz1.txt'\n"
     ]
    }
   ],
   "source": [
    "try :\n",
    "    f=open('xyz1.txt')\n",
    "    f.write('my name is shiva')\n",
    "except FileExistsError as e:\n",
    "    print (e)\n",
    "except Exception as e:\n",
    "    print(e)\n",
    "    "
   ]
  },
  {
   "cell_type": "code",
   "execution_count": 14,
   "metadata": {},
   "outputs": [
    {
     "name": "stdout",
     "output_type": "stream",
     "text": [
      "3\n"
     ]
    }
   ],
   "source": [
    " try :\n",
    "    f=open('xyz1.txt')\n",
    "    f.write('my name is shiva')\n",
    "except ValueError:\n",
    "    print('1 type error')\n",
    "except FileExistsError as e:\n",
    "    print ('2')\n",
    "except OSError:\n",
    "       print('3')\n",
    "except IOError:\n",
    "    print('4')\n",
    "except Exception as e:\n",
    "    print(e)\n",
    "    "
   ]
  },
  {
   "cell_type": "code",
   "execution_count": 15,
   "metadata": {},
   "outputs": [
    {
     "name": "stdout",
     "output_type": "stream",
     "text": [
      "there is an error with this code\n"
     ]
    }
   ],
   "source": [
    "try:\n",
    "    f= open('test1.txt')\n",
    "    f.write('jskdjsfjl;sakfa;kf')\n",
    "except (OSError, ValueError, FileNotFoundError, FileExistsError, Exception):\n",
    "    print('there is an error with this code')"
   ]
  },
  {
   "cell_type": "code",
   "execution_count": 16,
   "metadata": {},
   "outputs": [
    {
     "name": "stdout",
     "output_type": "stream",
     "text": [
      "there is an error with this code\n"
     ]
    }
   ],
   "source": [
    "try:\n",
    "    f= open('test1.txt')\n",
    "    f.write('jskdjsfjl;sakfa;kf')\n",
    "except ( ValueError, FileExistsError, Exception):\n",
    "    print('there is an error with this code')"
   ]
  },
  {
   "cell_type": "code",
   "execution_count": 17,
   "metadata": {},
   "outputs": [
    {
     "name": "stdout",
     "output_type": "stream",
     "text": [
      "there is an error with this code\n"
     ]
    }
   ],
   "source": [
    "try:\n",
    "    f= open('test1.txt')\n",
    "    f.write('jskdjsfjl;sakfa;kf')\n",
    "except (OSError, ValueError):\n",
    "    print('there is an error with this code')"
   ]
  },
  {
   "cell_type": "markdown",
   "metadata": {},
   "source": [
    "### Raise An Error"
   ]
  },
  {
   "cell_type": "code",
   "execution_count": 20,
   "metadata": {},
   "outputs": [
    {
     "name": "stdout",
     "output_type": "stream",
     "text": [
      "ints\n",
      "invalid literal for int() with base 10: 's'\n"
     ]
    }
   ],
   "source": [
    "try:\n",
    "    v= int (input('int'))\n",
    "    if v<2:\n",
    "        raise ValueError('it should be more than 2')\n",
    "except ValueError as e:\n",
    "    print(e)"
   ]
  },
  {
   "cell_type": "code",
   "execution_count": 21,
   "metadata": {},
   "outputs": [
    {
     "name": "stdout",
     "output_type": "stream",
     "text": [
      "int2\n",
      "it should be more than 2\n"
     ]
    }
   ],
   "source": [
    "try:\n",
    "    v= int (input('int'))\n",
    "    f= 56/v\n",
    "    if v==2:\n",
    "        raise ValueError('it should be more than 2')\n",
    "except ValueError as e:\n",
    "    print(e)"
   ]
  }
 ],
 "metadata": {
  "kernelspec": {
   "display_name": "Python 3",
   "language": "python",
   "name": "python3"
  },
  "language_info": {
   "codemirror_mode": {
    "name": "ipython",
    "version": 3
   },
   "file_extension": ".py",
   "mimetype": "text/x-python",
   "name": "python",
   "nbconvert_exporter": "python",
   "pygments_lexer": "ipython3",
   "version": "3.8.5"
  }
 },
 "nbformat": 4,
 "nbformat_minor": 4
}
